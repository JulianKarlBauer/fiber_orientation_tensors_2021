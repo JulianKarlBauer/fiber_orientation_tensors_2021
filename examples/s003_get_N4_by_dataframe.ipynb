{
 "cells": [
  {
   "cell_type": "code",
   "execution_count": 1,
   "metadata": {},
   "outputs": [],
   "source": [
    "#!/usr/bin/env python3\n",
    "# -*- coding: utf-8 -*-"
   ]
  },
  {
   "cell_type": "code",
   "execution_count": 2,
   "metadata": {},
   "outputs": [],
   "source": [
    "import numpy as np\n",
    "import sympy as sp\n",
    "import vofotensors as vot\n",
    "from vofotensors.abc import alpha1, rho1\n",
    "import pandas as pd"
   ]
  },
  {
   "cell_type": "markdown",
   "metadata": {},
   "source": [
    "#################<br>\n",
    "Create data"
   ]
  },
  {
   "cell_type": "code",
   "execution_count": 3,
   "metadata": {},
   "outputs": [],
   "source": [
    "alphas = np.linspace(-1.0 / 3.0, 2.0 / 3.0, 10)\n",
    "rho_top = alphas / 56.0 + 1.0 / 60.0\n",
    "rho_bottom = alphas * alphas / 8.0 - alphas / 42.0 - 1.0 / 90.0"
   ]
  },
  {
   "cell_type": "code",
   "execution_count": 4,
   "metadata": {},
   "outputs": [],
   "source": [
    "boundary = np.concatenate(\n",
    "    [\n",
    "        np.stack([alphas, rho_top], axis=1),\n",
    "        np.stack([alphas, rho_bottom], axis=1)[1:-1],\n",
    "    ],\n",
    "    axis=0,\n",
    ")"
   ]
  },
  {
   "cell_type": "code",
   "execution_count": 5,
   "metadata": {},
   "outputs": [],
   "source": [
    "df = pd.DataFrame(boundary, columns=[\"alpha1\", \"rho1\"])"
   ]
  },
  {
   "cell_type": "markdown",
   "metadata": {},
   "source": [
    "#################<br>\n",
    "Get parameterizations"
   ]
  },
  {
   "cell_type": "code",
   "execution_count": 6,
   "metadata": {},
   "outputs": [],
   "source": [
    "parameterizations = vot.fabric_tensors.N4s_parametric\n",
    "parameterization = parameterizations[\"transv_isotropic\"][\"alpha1_rho1\"]"
   ]
  },
  {
   "cell_type": "code",
   "execution_count": 7,
   "metadata": {},
   "outputs": [],
   "source": [
    "N4_func = sp.lambdify([alpha1, rho1], parameterization)"
   ]
  },
  {
   "cell_type": "code",
   "execution_count": 8,
   "metadata": {},
   "outputs": [
    {
     "name": "stdout",
     "output_type": "stream",
     "text": [
      "      alpha1      rho1                                                 N4\n",
      "0  -0.333333  0.010714  [[0.13333333333333333, 0.13333333333333336, 0....\n",
      "1  -0.222222  0.012698  [[0.24444444444444444, 0.13333333333333336, 0....\n",
      "2  -0.111111  0.014683  [[0.3555555555555555, 0.13333333333333336, 0.1...\n",
      "3   0.000000  0.016667  [[0.4666666666666667, 0.13333333333333336, 0.1...\n",
      "4   0.111111  0.018651  [[0.5777777777777777, 0.13333333333333336, 0.1...\n",
      "5   0.222222  0.020635  [[0.6888888888888889, 0.13333333333333336, 0.1...\n",
      "6   0.333333  0.022619  [[0.8, 0.13333333333333336, 0.1333333333333333...\n",
      "7   0.444444  0.024603  [[0.911111111111111, 0.13333333333333336, 0.13...\n",
      "8   0.555556  0.026587  [[1.0222222222222221, 0.13333333333333333, 0.1...\n",
      "9   0.666667  0.028571  [[1.1333333333333333, 0.13333333333333336, 0.1...\n",
      "10 -0.222222  0.000353  [[0.14567901234567898, 0.18271604938271607, 0....\n",
      "11 -0.111111 -0.006922  [[0.18271604938271602, 0.2197530864197531, 0.2...\n",
      "12  0.000000 -0.011111  [[0.2444444444444444, 0.24444444444444446, 0.2...\n",
      "13  0.111111 -0.012213  [[0.33086419753086416, 0.25679012345679014, 0....\n",
      "14  0.222222 -0.010229  [[0.4419753086419753, 0.25679012345679014, 0.2...\n",
      "15  0.333333 -0.005159  [[0.5777777777777777, 0.24444444444444446, 0.2...\n",
      "16  0.444444  0.002998  [[0.7382716049382714, 0.2197530864197531, 0.21...\n",
      "17  0.555556  0.014242  [[0.9234567901234567, 0.18271604938271604, 0.1...\n"
     ]
    }
   ],
   "source": [
    "df[\"N4\"] = df.apply(lambda row: N4_func(alpha1=row[\"alpha1\"], rho1=row[\"rho1\"]), axis=1)\n",
    "print(df)"
   ]
  },
  {
   "cell_type": "code",
   "execution_count": null,
   "metadata": {},
   "outputs": [],
   "source": []
  }
 ],
 "metadata": {
  "kernelspec": {
   "display_name": "Python 3",
   "language": "python",
   "name": "python3"
  },
  "language_info": {
   "codemirror_mode": {
    "name": "ipython",
    "version": 3
   },
   "file_extension": ".py",
   "mimetype": "text/x-python",
   "name": "python",
   "nbconvert_exporter": "python",
   "pygments_lexer": "ipython3",
   "version": "3.9.7"
  }
 },
 "nbformat": 4,
 "nbformat_minor": 2
}
