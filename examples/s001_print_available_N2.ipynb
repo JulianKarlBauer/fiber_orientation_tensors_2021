{
 "cells": [
  {
   "cell_type": "code",
   "execution_count": null,
   "id": "a09b49e2",
   "metadata": {},
   "outputs": [],
   "source": []
  },
  {
   "cell_type": "code",
   "execution_count": 1,
   "id": "c4586f81",
   "metadata": {
    "execution": {
     "iopub.execute_input": "2022-05-05T13:14:46.947443Z",
     "iopub.status.busy": "2022-05-05T13:14:46.943071Z",
     "iopub.status.idle": "2022-05-05T13:14:47.859200Z",
     "shell.execute_reply": "2022-05-05T13:14:47.858768Z"
    },
    "lines_to_next_cell": 2
   },
   "outputs": [],
   "source": [
    "import vofotensors as vot"
   ]
  },
  {
   "cell_type": "code",
   "execution_count": 2,
   "id": "8c10aaa1",
   "metadata": {
    "execution": {
     "iopub.execute_input": "2022-05-05T13:14:47.872056Z",
     "iopub.status.busy": "2022-05-05T13:14:47.871604Z",
     "iopub.status.idle": "2022-05-05T13:14:47.876283Z",
     "shell.execute_reply": "2022-05-05T13:14:47.875877Z"
    }
   },
   "outputs": [
    {
     "name": "stdout",
     "output_type": "stream",
     "text": [
      "Available parameterizations of second order fiber orientation tensors:\n",
      "\n",
      "###\n",
      "Group: planar\n",
      "alpha1\n",
      "Matrix([\n",
      "[3*alpha1/4 + 1/2,                0, 0],\n",
      "[               0, 1/2 - 3*alpha1/4, 0],\n",
      "[               0,                0, 0]])\n",
      "\n",
      "la1\n",
      "Matrix([\n",
      "[la1,       0, 0],\n",
      "[  0, 1 - la1, 0],\n",
      "[  0,       0, 0]])\n",
      "\n",
      "###\n",
      "Group: transv_isotropic\n",
      "alpha1\n",
      "Matrix([\n",
      "[alpha1 + 1/3,              0,              0],\n",
      "[           0, 1/3 - alpha1/2,              0],\n",
      "[           0,              0, 1/3 - alpha1/2]])\n",
      "\n",
      "alpha2\n",
      "Matrix([\n",
      "[1/3 - alpha2/2,            0,              0],\n",
      "[             0, alpha2 + 1/3,              0],\n",
      "[             0,            0, 1/3 - alpha2/2]])\n",
      "\n",
      "alpha3\n",
      "Matrix([\n",
      "[1/3 - alpha3/2,              0,            0],\n",
      "[             0, 1/3 - alpha3/2,            0],\n",
      "[             0,              0, alpha3 + 1/3]])\n",
      "\n",
      "la1\n",
      "Matrix([\n",
      "[la1,           0,           0],\n",
      "[  0, 1/2 - la1/2,           0],\n",
      "[  0,           0, 1/2 - la1/2]])\n",
      "\n",
      "###\n",
      "Group: orthotropic\n",
      "la1_la2\n",
      "Matrix([\n",
      "[la1,   0,              0],\n",
      "[  0, la2,              0],\n",
      "[  0,   0, -la1 - la2 + 1]])\n",
      "\n",
      "la1_la2_la3\n",
      "Matrix([\n",
      "[la1,   0,   0],\n",
      "[  0, la2,   0],\n",
      "[  0,   0, la3]])\n",
      "\n",
      "alpha1_alpha3\n",
      "Matrix([\n",
      "[alpha1 - alpha3/2 + 1/3,                          0,                        0],\n",
      "[                      0, -alpha1/2 - alpha3/2 + 1/3,                        0],\n",
      "[                      0,                          0, -alpha1/2 + alpha3 + 1/3]])\n",
      "\n",
      "alpha1_alpha2_alpha3\n",
      "Matrix([\n",
      "[alpha1 - alpha2/2 - alpha3/2 + 1/3,                                   0,                                   0],\n",
      "[                                 0, -alpha1/2 + alpha2 - alpha3/2 + 1/3,                                   0],\n",
      "[                                 0,                                   0, -alpha1/2 - alpha2/2 + alpha3 + 1/3]])\n",
      "\n"
     ]
    }
   ],
   "source": [
    "print(\"Available parameterizations of second order fiber orientation tensors:\\n\")\n",
    "vot.utils.print_nested(vot.fabric_tensors.N2s_parametric)"
   ]
  },
  {
   "cell_type": "code",
   "execution_count": null,
   "id": "8378dc40",
   "metadata": {},
   "outputs": [],
   "source": []
  }
 ],
 "metadata": {
  "jupytext": {
   "cell_metadata_filter": "-all",
   "encoding": "# -*- coding: utf-8 -*-",
   "executable": "/usr/bin/env python3",
   "main_language": "python",
   "notebook_metadata_filter": "-all"
  },
  "language_info": {
   "codemirror_mode": {
    "name": "ipython",
    "version": 3
   },
   "file_extension": ".py",
   "mimetype": "text/x-python",
   "name": "python",
   "nbconvert_exporter": "python",
   "pygments_lexer": "ipython3",
   "version": "3.9.7"
  }
 },
 "nbformat": 4,
 "nbformat_minor": 5
}
