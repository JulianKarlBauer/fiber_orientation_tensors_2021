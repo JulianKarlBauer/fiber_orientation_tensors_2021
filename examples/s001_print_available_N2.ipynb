{
 "cells": [
  {
   "cell_type": "code",
   "execution_count": 1,
   "metadata": {},
   "outputs": [],
   "source": [
    "#!/usr/bin/env python3\n",
    "# -*- coding: utf-8 -*-"
   ]
  },
  {
   "cell_type": "code",
   "execution_count": 2,
   "metadata": {},
   "outputs": [],
   "source": [
    "import vofotensors as vot"
   ]
  },
  {
   "cell_type": "code",
   "execution_count": 3,
   "metadata": {},
   "outputs": [
    {
     "name": "stdout",
     "output_type": "stream",
     "text": [
      "Available parameterizations of second order fiber orientation tensors:\n",
      "\n",
      "###\n",
      "Group: planar\n",
      "alpha1\n",
      "Matrix([\n",
      "[3*alpha1/4 + 1/2,                0, 0],\n",
      "[               0, 1/2 - 3*alpha1/4, 0],\n",
      "[               0,                0, 0]])\n",
      "\n",
      "la1\n",
      "Matrix([\n",
      "[la1,       0, 0],\n",
      "[  0, 1 - la1, 0],\n",
      "[  0,       0, 0]])\n",
      "\n",
      "###\n",
      "Group: transv_isotropic\n",
      "alpha1\n",
      "Matrix([\n",
      "[alpha1 + 1/3,              0,              0],\n",
      "[           0, 1/3 - alpha1/2,              0],\n",
      "[           0,              0, 1/3 - alpha1/2]])\n",
      "\n",
      "alpha2\n",
      "Matrix([\n",
      "[1/3 - alpha2/2,            0,              0],\n",
      "[             0, alpha2 + 1/3,              0],\n",
      "[             0,            0, 1/3 - alpha2/2]])\n",
      "\n",
      "alpha3\n",
      "Matrix([\n",
      "[1/3 - alpha3/2,              0,            0],\n",
      "[             0, 1/3 - alpha3/2,            0],\n",
      "[             0,              0, alpha3 + 1/3]])\n",
      "\n",
      "la1\n",
      "Matrix([\n",
      "[la1,           0,           0],\n",
      "[  0, 1/2 - la1/2,           0],\n",
      "[  0,           0, 1/2 - la1/2]])\n",
      "\n",
      "###\n",
      "Group: orthotropic\n",
      "la1_la2\n",
      "Matrix([\n",
      "[la1,   0,              0],\n",
      "[  0, la2,              0],\n",
      "[  0,   0, -la1 - la2 + 1]])\n",
      "\n",
      "la1_la2_la3\n",
      "Matrix([\n",
      "[la1,   0,   0],\n",
      "[  0, la2,   0],\n",
      "[  0,   0, la3]])\n",
      "\n",
      "alpha1_alpha3\n",
      "Matrix([\n",
      "[alpha1 - alpha3/2 + 1/3,                          0,                        0],\n",
      "[                      0, -alpha1/2 - alpha3/2 + 1/3,                        0],\n",
      "[                      0,                          0, -alpha1/2 + alpha3 + 1/3]])\n",
      "\n",
      "alpha1_alpha2_alpha3\n",
      "Matrix([\n",
      "[alpha1 - alpha2/2 - alpha3/2 + 1/3,                                   0,                                   0],\n",
      "[                                 0, -alpha1/2 + alpha2 - alpha3/2 + 1/3,                                   0],\n",
      "[                                 0,                                   0, -alpha1/2 - alpha2/2 + alpha3 + 1/3]])\n",
      "\n"
     ]
    }
   ],
   "source": [
    "print(\"Available parameterizations of second order fiber orientation tensors:\\n\")\n",
    "vot.utils.print_nested(vot.fabric_tensors.N2s_parametric)"
   ]
  },
  {
   "cell_type": "code",
   "execution_count": null,
   "metadata": {},
   "outputs": [],
   "source": []
  }
 ],
 "metadata": {
  "kernelspec": {
   "display_name": "Python 3",
   "language": "python",
   "name": "python3"
  },
  "language_info": {
   "codemirror_mode": {
    "name": "ipython",
    "version": 3
   },
   "file_extension": ".py",
   "mimetype": "text/x-python",
   "name": "python",
   "nbconvert_exporter": "python",
   "pygments_lexer": "ipython3",
   "version": "3.9.7"
  }
 },
 "nbformat": 4,
 "nbformat_minor": 2
}
